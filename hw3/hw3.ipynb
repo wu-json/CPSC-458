{
 "cells": [
  {
   "cell_type": "markdown",
   "id": "931f79aa",
   "metadata": {},
   "source": [
    "# CPSC 458 Hw3"
   ]
  },
  {
   "cell_type": "markdown",
   "id": "c32839e3",
   "metadata": {},
   "source": [
    "## Goal Classes\n",
    "These are classes that were defined in the Goals notebook provided on the course website. We will be using them throughout this assignment."
   ]
  },
  {
   "cell_type": "markdown",
   "id": "4f5c5206",
   "metadata": {},
   "source": [
    "### Feature"
   ]
  },
  {
   "cell_type": "markdown",
   "id": "123ff279",
   "metadata": {},
   "source": [
    "This is equivalent to the issue class in the Goals notebook provided on the assignment website. We just rename it to features here given the context of the problem (choosing what computer to buy)."
   ]
  },
  {
   "cell_type": "code",
   "execution_count": 35,
   "id": "30227a56",
   "metadata": {},
   "outputs": [],
   "source": [
    "class feature:\n",
    "    count = 0\n",
    "    features = {}\n",
    "\n",
    "    def __init__(self, name):\n",
    "        self.name = name.upper()\n",
    "        if self.name not in feature.features:\n",
    "            self.count = feature.count\n",
    "            feature.count += 1\n",
    "            feature.features[self.name] = self\n",
    "\n",
    "    def __repr__(self):\n",
    "        return f'feature({self.name!r})'\n",
    "\n",
    "    def __str__(self):\n",
    "        return f\"<feature ({self.count}): {self.name}>\"\n",
    "    \n",
    "    def __eq__(self, other):\n",
    "        return self.name == other.name"
   ]
  },
  {
   "cell_type": "markdown",
   "id": "a80d75fd",
   "metadata": {},
   "source": [
    "### Stance"
   ]
  },
  {
   "cell_type": "code",
   "execution_count": 36,
   "id": "7583dad0",
   "metadata": {},
   "outputs": [],
   "source": [
    "class stance:\n",
    "    count = 0\n",
    "    stances = []\n",
    "\n",
    "    def __init__(self, featurename, side='pro', importance='A'):\n",
    "        if not featurename.upper() in feature.features:\n",
    "            feature(featurename)\n",
    "        self.feature = feature.features[featurename.upper()]\n",
    "        self.side = side.upper()\n",
    "        self.importance = importance.upper()\n",
    "        self.count = stance.count\n",
    "        stance.count += 1\n",
    "        stance.stances.append(self)\n",
    "\n",
    "    def __repr__(self):\n",
    "        return f'stance({self.feature.name!r}, {self.side!r}, {self.importance!r})'\n",
    "    \n",
    "    def __str__(self):\n",
    "        return f\"<stance ({self.count}): {self.feature.name} [{self.side}:{self.importance}]>\"\n",
    "    \n",
    "    def __eq__(self, other):\n",
    "        return self.feature == other.feature and self.side == other.side\n",
    "\n",
    "    def copy(self):\n",
    "        return stance(self.feature.name, self.side, self.importance)\n",
    "\n",
    "    def __hash__(self):\n",
    "        return hash((self.feature.name, self.side))  \n",
    "\n",
    "    def __lt__(self, other):\n",
    "        return self.feature.name + self.side < other.feature.name + other.side"
   ]
  },
  {
   "cell_type": "markdown",
   "id": "0360d831",
   "metadata": {},
   "source": [
    "### Agent"
   ]
  },
  {
   "cell_type": "markdown",
   "id": "9f630b83",
   "metadata": {},
   "source": [
    "I've modified the agent class slightly to also store stances in addition to goals as the spec asks for. Stances are not directly added to the agent at the top level. I added an `infer_stances_from_goals` method that populates stances from the goals."
   ]
  },
  {
   "cell_type": "code",
   "execution_count": 40,
   "id": "405b9f8a",
   "metadata": {},
   "outputs": [],
   "source": [
    "class agent:\n",
    "    count = 0\n",
    "    agents = []\n",
    "    stances = []\n",
    "\n",
    "    def __init__(self, name):\n",
    "        self.name = name\n",
    "        self.goals = []\n",
    "        self.count = agent.count\n",
    "        agent.count += 1\n",
    "        agent.agents.append(self)\n",
    "\n",
    "    def __repr__(self):\n",
    "        return f\"agent({self.name!r})\"\n",
    "\n",
    "    def __str__(self):\n",
    "        return f\"<agent. name: {self.name} ({self.count})>\"\n",
    "\n",
    "    def add_goal(self, goal):\n",
    "        if not goal in self.goals:\n",
    "            self.goals.append(goal)\n",
    "            \n",
    "    def infer_stances_from_goals(self):\n",
    "        stances_to_add = []\n",
    "        for goal in self.goals:\n",
    "            if \"gaming\" in goal:\n",
    "                stances_to_add.push(stance(\"OS:WINDOWS\", 'pro', 'A'))\n",
    "                stances_to_add.push(stance(\"CPU:MANUFACTURER:AMD\", 'pro', 'A'))\n",
    "                stances_to_add.push(stance(\"CPU:CORES:8\", 'pro', 'B'))\n",
    "                stances_to_add.push(stance(\"KEYBOARD:SWITCH:MECHANICAL\", 'pro', 'B'))\n",
    "                stances_to_add.push(stance(\"KEYBOARD:SWITCH:MECHANICAL\", 'pro', 'B'))\n",
    "                stances_to_add.push(stance(\"LIGHTING:KEYBOARD:RGB\", 'pro', 'B'))\n",
    "                stances_to_add.push(stance(\"RAM:SIZE:32\", 'pro', 'B'))\n",
    "                stances_to_add.push(stance(\"BRAND:APPLE\", 'con', 'A'))\n",
    "                \n",
    "            if \"coding\" in goal:\n",
    "                stances_to_add.push(stance(\"OS:MACOS\", 'pro', 'A'))\n",
    "                stances_to_add.push(stance(\"OS:LINUX\", 'pro', 'A'))\n",
    "                stances_to_add.push(stance(\"OS:MACOS\", 'pro', 'A'))\n",
    "                stances_to_add.push(stance(\"DISPLAY:RESOLUTION:RETINA\", 'pro', 'B'))\n",
    "                \n",
    "            if \"productivity\" in goal or \"work\" in goal:\n",
    "                stances_to_add.push(stance(\"OS:MACOS\", 'pro', 'B'))\n",
    "                stances_to_add.push(stance(\"DISPLAY:RESOLUTION:RETINA\", 'pro', 'B'))\n",
    "                stances_to_add.push(stance(\"WEBCAM:QUALITY:720p\", 'pro', 'B'))\n",
    "                stances_to_add.push(stance(\"WEBCAM:QUALITY:1080p\", 'pro', 'B'))\n",
    "                \n",
    "            if \"affordable\" in goal:\n",
    "                stances_to_add.push(stance(\"PRICE:HIGH\", 'con', 'B'))\n",
    "                \n",
    "            if \"portable\" in goal:\n",
    "                stances_to_add.push(stance(\"SIZE:13\", 'pro', 'B'))\n",
    "                stances_to_add.push(stance(\"SIZE:14\", 'pro', 'B'))\n",
    "\n",
    "    def pp(self):\n",
    "        result = f\"Name:\\t{self.name}\"\n",
    "        if self.goals:\n",
    "            result += f\"\\nGoals:\\t{self.goals}\"\n",
    "        return result\n",
    "\n",
    "    def __eq__(self, other):\n",
    "        return self.name == other.name and sorted(self.goals) == sorted(other.goals) \n",
    "\n",
    "    def copy(self):\n",
    "        newagent = agent(self.name)\n",
    "        newagent.goals = self.goals[:]\n",
    "        return newagent"
   ]
  },
  {
   "cell_type": "markdown",
   "id": "fc9f1dff",
   "metadata": {},
   "source": [
    "## 1. Define a Device Class"
   ]
  },
  {
   "cell_type": "markdown",
   "id": "239fb3d0",
   "metadata": {},
   "source": [
    "As instructed by the spec, our device class must contain instances of a feature class. Our device class is a very lightweight class that stores the number of features, and the features themselves in instance variables."
   ]
  },
  {
   "cell_type": "code",
   "execution_count": 41,
   "id": "e3d3088e",
   "metadata": {},
   "outputs": [],
   "source": [
    "class device:\n",
    "    count = 0\n",
    "    features = []\n",
    "    \n",
    "    def __init__(self, name, features):\n",
    "        self.name = name\n",
    "        self.count += len(features)\n",
    "        self.features = features"
   ]
  },
  {
   "cell_type": "markdown",
   "id": "03f51169",
   "metadata": {},
   "source": [
    "## 2. Define Some Features"
   ]
  },
  {
   "cell_type": "markdown",
   "id": "fe641f38",
   "metadata": {},
   "source": [
    "Before we go on to create agents with different feature stances, we should define some features first so we have an idea of what features we are looking at to begin with. I looked up a few cool laptops on YouTube mostly from [Dave2D's channel](https://www.youtube.com/c/Dave2D) for inspiration, and created the following groups of feature sets:"
   ]
  },
  {
   "cell_type": "code",
   "execution_count": 42,
   "id": "ed27b103",
   "metadata": {},
   "outputs": [
    {
     "data": {
      "text/plain": [
       "feature('PRICE:HIGH')"
      ]
     },
     "execution_count": 42,
     "metadata": {},
     "output_type": "execute_result"
    }
   ],
   "source": [
    "# operating system\n",
    "feature(\"OS:MACOS\")\n",
    "feature(\"OS:WINDOWS\")\n",
    "feature(\"OS:LINUX\")\n",
    "\n",
    "# CPU Cores\n",
    "feature(\"CPU:CORES:2\")\n",
    "feature(\"CPU:CORES:4\")\n",
    "feature(\"CPU:CORES:6\")\n",
    "feature(\"CPU:CORES:8\")\n",
    "\n",
    "# CPU manufacturer\n",
    "feature(\"CPU:MANUFACTURER:AMD\")\n",
    "feature(\"CPU:MANUFACTURER:INTEL\")\n",
    "\n",
    "# webcam\n",
    "feature(\"WEBCAM:BUILT_IN\")\n",
    "feature(\"WEBCAM:QUALITY:480p\")\n",
    "feature(\"WEBCAM:QUALITY:720p\")\n",
    "feature(\"WEBCAM:QUALITY:1080p\")\n",
    "\n",
    "# RAM\n",
    "feature(\"RAM:SIZE:8\")\n",
    "feature(\"RAM:SIZE:16\")\n",
    "feature(\"RAM:SIZE:32\")\n",
    "feature(\"RAM:SIZE:64\")\n",
    "\n",
    "# size\n",
    "feature(\"SIZE:13\")\n",
    "feature(\"SIZE:14\")\n",
    "feature(\"SIZE:15\")\n",
    "feature(\"SIZE:16\")\n",
    "feature(\"SIZE:17\")\n",
    "\n",
    "# display resolution\n",
    "feature(\"DISPLAY:RESOLUTION:HD\")\n",
    "feature(\"DISPLAY:RESOLUTION:FULL_HD\")\n",
    "feature(\"DISPLAY:RESOLUTION:RETINA\")\n",
    "feature(\"DISPLAY:RESOLUTION:QHD\")\n",
    "feature(\"DISPLAY:RESOLUTION:QHD+\")\n",
    "feature(\"DISPLAY:RESOLUTION:UHD\")\n",
    "\n",
    "# display type\n",
    "feature(\"DISPLAY:TYPE:GLOSSY\")\n",
    "feature(\"DISPLAY:TYPE:MATTE\")\n",
    "\n",
    "# touch screen\n",
    "feature(\"DISPLAY:TOUCH\")\n",
    "\n",
    "# keyboard\n",
    "feature(\"KEYBOARD:TKL\")\n",
    "feature(\"KEYBOARD:SWITCH:LOW_PROFILE\")\n",
    "feature(\"KEYBOARD:SWITCH:BUTTERFLY\")\n",
    "feature(\"KEYBOARD:SWITCH:MECHANICAL\")\n",
    "feature(\"KEYBOARD:SWITCH:OPTICAL\")\n",
    "feature(\"KEYBOARD:SWITCH:TACTILE\")\n",
    "\n",
    "# chassis color\n",
    "feature(\"CHASSIS:COLOR:WHITE\")\n",
    "feature(\"CHASSIS:COLOR:BLACK\")\n",
    "feature(\"CHASSIS:COLOR:GRAY\")\n",
    "feature(\"CHASSIS:COLOR:RED\")\n",
    "feature(\"CHASSIS:COLOR:BLUE\")\n",
    "feature(\"CHASSIS:COLOR:GREEN\")\n",
    "\n",
    "# brand\n",
    "feature(\"BRAND:APPLE\")\n",
    "feature(\"BRAND:LENOVO\")\n",
    "feature(\"BRAND:ALIENWARE\")\n",
    "feature(\"BRAND:MSI\")\n",
    "feature(\"BRAND:ASUS\")\n",
    "\n",
    "# lighting\n",
    "feature(\"LIGHTING:KEYBOARD:RGB\")\n",
    "feature(\"LIGHTING:KEYBOARD:BACKLIGHT\")\n",
    "feature(\"LIGHTING:CHASSIS:RGB\")\n",
    "\n",
    "# price\n",
    "feature(\"PRICE:LOW\") # $800 or below\n",
    "feature(\"PRICE:MID\") # $800-$1600\n",
    "feature(\"PRICE:HIGH\") # $1600 or above"
   ]
  },
  {
   "cell_type": "markdown",
   "id": "5d3cbeef",
   "metadata": {},
   "source": [
    "Now that we have defined a decent space of features, we can define agent instances with different stances by giving them different goals."
   ]
  },
  {
   "cell_type": "code",
   "execution_count": null,
   "id": "b01d9a4a",
   "metadata": {},
   "outputs": [],
   "source": []
  },
  {
   "cell_type": "code",
   "execution_count": null,
   "id": "6eee0bae",
   "metadata": {},
   "outputs": [],
   "source": []
  },
  {
   "cell_type": "code",
   "execution_count": null,
   "id": "b3bada3c",
   "metadata": {},
   "outputs": [],
   "source": []
  },
  {
   "cell_type": "code",
   "execution_count": null,
   "id": "d77c23f1",
   "metadata": {},
   "outputs": [],
   "source": []
  }
 ],
 "metadata": {
  "kernelspec": {
   "display_name": "Python 3 (ipykernel)",
   "language": "python",
   "name": "python3"
  },
  "language_info": {
   "codemirror_mode": {
    "name": "ipython",
    "version": 3
   },
   "file_extension": ".py",
   "mimetype": "text/x-python",
   "name": "python",
   "nbconvert_exporter": "python",
   "pygments_lexer": "ipython3",
   "version": "3.9.10"
  }
 },
 "nbformat": 4,
 "nbformat_minor": 5
}
