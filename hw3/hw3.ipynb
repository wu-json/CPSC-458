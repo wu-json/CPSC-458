{
 "cells": [
  {
   "cell_type": "markdown",
   "id": "931f79aa",
   "metadata": {},
   "source": [
    "# CPSC 458 Hw3"
   ]
  },
  {
   "cell_type": "markdown",
   "id": "c32839e3",
   "metadata": {},
   "source": [
    "## Goal Classes\n",
    "These are classes that were defined in the Goals notebook provided on the course website. We will be using them throughout this assignment."
   ]
  },
  {
   "cell_type": "markdown",
   "id": "0360d831",
   "metadata": {},
   "source": [
    "### Agent"
   ]
  },
  {
   "cell_type": "code",
   "execution_count": 1,
   "id": "405b9f8a",
   "metadata": {},
   "outputs": [],
   "source": [
    "class agent:\n",
    "    '''Class for agents who have goals.'''\n",
    "\n",
    "    count = 0\n",
    "    agents = []\n",
    "\n",
    "    def __init__(self, name):\n",
    "        ''' Constructor for agent with name.'''\n",
    "        self.name = name\n",
    "        self.goals = []\n",
    "        self.count = agent.count\n",
    "        agent.count += 1\n",
    "        agent.agents.append(self)\n",
    "\n",
    "\n",
    "    def __repr__(self):\n",
    "        ''' Print out agent so that it can evaluate to itself.'''\n",
    "        return f\"agent({self.name!r})\"\n",
    "\n",
    "    def __str__(self):\n",
    "        '''Return agent as a string.'''\n",
    "        return f\"<agent. name: {self.name} ({self.count})>\"\n",
    "\n",
    "    def add_goal(self, goal):\n",
    "        '''Add goals (stances) without duplicates.'''\n",
    "        if not goal in self.goals:\n",
    "            self.goals.append(goal)\n",
    "\n",
    "    def pp(self):\n",
    "        '''Pretty print agent information.'''\n",
    "        result = f\"Name:\\t{self.name}\"\n",
    "        if self.goals:\n",
    "            result += f\"\\nGoals:\\t{self.goals}\"\n",
    "        return result\n",
    "\n",
    "\n",
    "    def __eq__(self, other):\n",
    "        ''' Overload == operator.  Are two agents equal by name and goals? '''\n",
    "        return self.name == other.name and sorted(self.goals) == sorted(other.goals) \n",
    "\n",
    "    def copy(self):\n",
    "        ''' Clone the agent, including name, and goals. '''\n",
    "        newagent = agent(self.name)\n",
    "        newagent.goals = self.goals[:]\n",
    "        return newagent"
   ]
  },
  {
   "cell_type": "markdown",
   "id": "3444bef8",
   "metadata": {},
   "source": [
    "## "
   ]
  },
  {
   "cell_type": "code",
   "execution_count": null,
   "id": "38c5ee7f",
   "metadata": {},
   "outputs": [],
   "source": []
  }
 ],
 "metadata": {
  "kernelspec": {
   "display_name": "Python 3 (ipykernel)",
   "language": "python",
   "name": "python3"
  },
  "language_info": {
   "codemirror_mode": {
    "name": "ipython",
    "version": 3
   },
   "file_extension": ".py",
   "mimetype": "text/x-python",
   "name": "python",
   "nbconvert_exporter": "python",
   "pygments_lexer": "ipython3",
   "version": "3.9.10"
  }
 },
 "nbformat": 4,
 "nbformat_minor": 5
}
