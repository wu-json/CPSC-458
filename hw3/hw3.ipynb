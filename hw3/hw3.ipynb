{
 "cells": [
  {
   "cell_type": "markdown",
   "id": "931f79aa",
   "metadata": {},
   "source": [
    "# CPSC 458 Hw3"
   ]
  },
  {
   "cell_type": "markdown",
   "id": "c32839e3",
   "metadata": {},
   "source": [
    "## Goal Classes\n",
    "These are classes that were defined in the Goals notebook provided on the course website. We will be using them throughout this assignment."
   ]
  },
  {
   "cell_type": "markdown",
   "id": "f91c3d72",
   "metadata": {},
   "source": [
    "### Feature"
   ]
  },
  {
   "cell_type": "markdown",
   "id": "2dbe5711",
   "metadata": {},
   "source": [
    "This is equivalent to the issue class in the Goals notebook provided on the assignment website. We just rename it to features here given the context of the problem (choosing what computer to buy)."
   ]
  },
  {
   "cell_type": "code",
   "execution_count": 1,
   "id": "fa6ca4f1",
   "metadata": {},
   "outputs": [],
   "source": [
    "class feature:\n",
    "    count = 0\n",
    "    features = {}\n",
    "\n",
    "    def __init__(self, name):\n",
    "        self.name = name.upper()\n",
    "        if self.name not in feature.features:\n",
    "            self.count = feature.count\n",
    "            feature.count += 1\n",
    "            feature.features[self.name] = self\n",
    "\n",
    "    def __repr__(self):\n",
    "        return f'feature({self.name!r})'\n",
    "\n",
    "    def __str__(self):\n",
    "        return f\"<feature ({self.count}): {self.name}>\"\n",
    "    \n",
    "    def __eq__(self, other):\n",
    "        return self.name == other.name"
   ]
  },
  {
   "cell_type": "markdown",
   "id": "4e2550f7",
   "metadata": {},
   "source": [
    "### Stance"
   ]
  },
  {
   "cell_type": "code",
   "execution_count": 2,
   "id": "67580b7b",
   "metadata": {},
   "outputs": [],
   "source": [
    "class stance:\n",
    "    count = 0\n",
    "    stances = []\n",
    "\n",
    "    def __init__(self, featurename, side='pro', importance='A'):\n",
    "        if not featurename.upper() in feature.features:\n",
    "            feature(featurename)\n",
    "        self.feature = feature.features[featurename.upper()]\n",
    "        self.side = side.upper()\n",
    "        self.importance = importance.upper()\n",
    "        self.count = stance.count\n",
    "        stance.count += 1\n",
    "        stance.stances.append(self)\n",
    "\n",
    "    def __repr__(self):\n",
    "        return f'stance({self.feature.name!r}, {self.side!r}, {self.importance!r})'\n",
    "    \n",
    "    def __str__(self):\n",
    "        return f\"<stance ({self.count}): {self.feature.name} [{self.side}:{self.importance}]>\"\n",
    "    \n",
    "    def __eq__(self, other):\n",
    "        return self.feature == other.feature and self.side == other.side\n",
    "\n",
    "    def copy(self):\n",
    "        return stance(self.feature.name, self.side, self.importance)\n",
    "\n",
    "    def __hash__(self):\n",
    "        return hash((self.feature.name, self.side))  \n",
    "\n",
    "    def __lt__(self, other):\n",
    "        return self.feature.name + self.side < other.feature.name + other.side"
   ]
  },
  {
   "cell_type": "markdown",
   "id": "0360d831",
   "metadata": {},
   "source": [
    "### Agent"
   ]
  },
  {
   "cell_type": "markdown",
   "id": "7f98d4e5",
   "metadata": {},
   "source": [
    "I've modified the agent class slightly to also store stances in addition to goals as the spec asks for. Stances are not directly added to the agent at the top level. I added an `infer_stances_from_goals` method that populates stances from the goals."
   ]
  },
  {
   "cell_type": "code",
   "execution_count": 3,
   "id": "405b9f8a",
   "metadata": {},
   "outputs": [],
   "source": [
    "class agent:\n",
    "    count = 0\n",
    "    agents = []\n",
    "    stances = []\n",
    "\n",
    "    def __init__(self, name):\n",
    "        self.name = name\n",
    "        self.goals = []\n",
    "        self.count = agent.count\n",
    "        agent.count += 1\n",
    "        agent.agents.append(self)\n",
    "\n",
    "    def __repr__(self):\n",
    "        return f\"agent({self.name!r})\"\n",
    "\n",
    "    def __str__(self):\n",
    "        return f\"<agent. name: {self.name} ({self.count})>\"\n",
    "\n",
    "    def add_goal(self, goal):\n",
    "        if not goal in self.goals:\n",
    "            self.goals.append(goal)\n",
    "            \n",
    "    def infer_stances_from_goals(self):\n",
    "        stances_to_add = []\n",
    "        for goal in self.goals:\n",
    "            if \"gaming\" in goal:\n",
    "                stances_to_add.append(stance(\"OS:WINDOWS\", 'pro', 'A'))\n",
    "                stances_to_add.append(stance(\"KEYBOARD:SWITCH:MECHANICAL\", 'pro', 'B'))\n",
    "                stances_to_add.append(stance(\"KEYBOARD:SWITCH:MECHANICAL\", 'pro', 'B'))\n",
    "                stances_to_add.append(stance(\"LIGHTING:KEYBOARD:RGB\", 'pro', 'B'))\n",
    "                stances_to_add.append(stance(\"BRAND:APPLE\", 'con', 'A'))\n",
    "                \n",
    "            if \"coding\" in goal:\n",
    "                stances_to_add.append(stance(\"OS:MACOS\", 'pro', 'A'))\n",
    "                stances_to_add.append(stance(\"OS:LINUX\", 'pro', 'B'))\n",
    "                stances_to_add.append(stance(\"DISPLAY:RESOLUTION:RETINA\", 'pro', 'B'))\n",
    "                \n",
    "            if \"productivity\" in goal or \"work\" in goal:\n",
    "                stances_to_add.append(stance(\"OS:MACOS\", 'pro', 'B'))\n",
    "                stances_to_add.append(stance(\"DISPLAY:RESOLUTION:RETINA\", 'pro', 'B'))\n",
    "                \n",
    "            if \"art\" in goal:\n",
    "                stances_to_add.append(stance(\"DISPLAY:SMART_PEN_SUPPORT\", 'pro', 'A'))\n",
    "                stances_to_add.append(stance(\"DISPLAY:TABLET_MODE\", 'pro', 'B'))\n",
    "                stances_to_add.append(stance(\"DISPLAY:TOUCH\", 'pro', 'B'))\n",
    "                stances_to_add.append(stance(\"BRAND:APPLE\", 'con', 'A'))\n",
    "                \n",
    "            if \"affordable\" in goal:\n",
    "                stances_to_add.append(stance(\"PRICE:HIGH\", 'con', 'A'))\n",
    "                \n",
    "            if \"portable\" in goal:\n",
    "                stances_to_add.append(stance(\"SIZE:13\", 'pro', 'B'))\n",
    "                stances_to_add.append(stance(\"SIZE:14\", 'pro', 'B'))\n",
    "                \n",
    "        self.stances = stances_to_add\n",
    "        \n",
    "    def enrich_stances(self):\n",
    "        stances_to_add = []\n",
    "        for goal in self.goals:\n",
    "            if \"gaming\" in goal:\n",
    "                stances_to_add.append(stance(\"CPU:MANUFACTURER:AMD\", 'pro', 'A'))\n",
    "                stances_to_add.append(stance(\"CPU:CORES:8\", 'pro', 'B'))\n",
    "                stances_to_add.append(stance(\"RAM:SIZE:32\", 'pro', 'B'))\n",
    "                stances_to_add.append(stance(\"DISPLAY:REFRESH_RATE:120HZ\", 'pro', 'B'))\n",
    "                stances_to_add.append(stance(\"DISPLAY:RESOLUTION:QHD\", 'pro', 'B'))\n",
    "            elif \"productivity\" in goal:\n",
    "                stances_to_add.append(stance(\"RAM:SIZE:16\", 'pro', 'B'))\n",
    "                stances_to_add.append(stance(\"RAM:SIZE:8\", 'pro', 'B'))\n",
    "                stances_to_add.append(stance(\"WEBCAM:QUALITY:720p\", 'pro', 'B'))\n",
    "                stances_to_add.append(stance(\"WEBCAM:QUALITY:1080p\", 'pro', 'B'))\n",
    "            elif \"art\" in goal:\n",
    "                stances_to_add.append(stance(\"DISPLAY:PRESSURE_SENSITIVE\", 'pro', 'A'))\n",
    "                                      \n",
    "        self.stances += stances_to_add\n",
    "\n",
    "    def pp(self):\n",
    "        result = f\"Name:\\t{self.name}\"\n",
    "        if self.goals:\n",
    "            result += f\"\\nGoals:\\t{self.goals}\"\n",
    "        if self.stances:\n",
    "            result += f\"\\nStances:\\t{self.stances}\"\n",
    "        return result\n",
    "\n",
    "    def __eq__(self, other):\n",
    "        return self.name == other.name and sorted(self.goals) == sorted(other.goals) \n",
    "\n",
    "    def copy(self):\n",
    "        newagent = agent(self.name)\n",
    "        newagent.goals = self.goals[:]\n",
    "        return newagent"
   ]
  },
  {
   "cell_type": "markdown",
   "id": "dbb41a29",
   "metadata": {},
   "source": [
    "## 1. Define a Device Class"
   ]
  },
  {
   "cell_type": "markdown",
   "id": "726b8e67",
   "metadata": {},
   "source": [
    "As instructed by the spec, our device class must contain instances of a feature class. Our device class is a very lightweight class that stores the number of features, and the features themselves in instance variables."
   ]
  },
  {
   "cell_type": "code",
   "execution_count": 4,
   "id": "761a1a7d",
   "metadata": {},
   "outputs": [],
   "source": [
    "class device:\n",
    "    count = 0\n",
    "    features = []\n",
    "    \n",
    "    def __init__(self, name, features):\n",
    "        self.name = name\n",
    "        self.count += len(features)\n",
    "        self.features = features\n",
    "        \n",
    "    def __repr__(self):\n",
    "        return f'device({self.name!r})'\n",
    "\n",
    "    def __str__(self):\n",
    "        return f\"<device ({self.count}): {self.name}>\""
   ]
  },
  {
   "cell_type": "markdown",
   "id": "e9bb5bef",
   "metadata": {},
   "source": [
    "## 2. Define Some Features"
   ]
  },
  {
   "cell_type": "markdown",
   "id": "ede8ce47",
   "metadata": {},
   "source": [
    "Before we go on to create agents with different feature stances, we should define some features first so we have an idea of what features we are looking at to begin with. I looked up a few cool laptops on YouTube mostly from [Dave2D's channel](https://www.youtube.com/c/Dave2D) for inspiration, and created the following groups of feature sets:"
   ]
  },
  {
   "cell_type": "code",
   "execution_count": 5,
   "id": "09f5a7c3",
   "metadata": {},
   "outputs": [
    {
     "data": {
      "text/plain": [
       "feature('PRICE:HIGH')"
      ]
     },
     "execution_count": 5,
     "metadata": {},
     "output_type": "execute_result"
    }
   ],
   "source": [
    "# operating system\n",
    "feature(\"OS:MACOS\")\n",
    "feature(\"OS:WINDOWS\")\n",
    "feature(\"OS:LINUX\")\n",
    "\n",
    "# CPU Cores\n",
    "feature(\"CPU:CORES:2\")\n",
    "feature(\"CPU:CORES:4\")\n",
    "feature(\"CPU:CORES:6\")\n",
    "feature(\"CPU:CORES:8\")\n",
    "feature(\"CPU:CORES:10\")\n",
    "\n",
    "# CPU manufacturer\n",
    "feature(\"CPU:MANUFACTURER:AMD\")\n",
    "feature(\"CPU:MANUFACTURER:INTEL\")\n",
    "\n",
    "# webcam\n",
    "feature(\"WEBCAM:BUILT_IN\")\n",
    "feature(\"WEBCAM:QUALITY:480p\")\n",
    "feature(\"WEBCAM:QUALITY:720p\")\n",
    "feature(\"WEBCAM:QUALITY:1080p\")\n",
    "\n",
    "# RAM\n",
    "feature(\"RAM:SIZE:8\")\n",
    "feature(\"RAM:SIZE:16\")\n",
    "feature(\"RAM:SIZE:32\")\n",
    "feature(\"RAM:SIZE:64\")\n",
    "\n",
    "# size\n",
    "feature(\"SIZE:13\")\n",
    "feature(\"SIZE:14\")\n",
    "feature(\"SIZE:15\")\n",
    "feature(\"SIZE:16\")\n",
    "feature(\"SIZE:17\")\n",
    "\n",
    "# display resolution\n",
    "feature(\"DISPLAY:RESOLUTION:HD\")\n",
    "feature(\"DISPLAY:RESOLUTION:FULL_HD\")\n",
    "feature(\"DISPLAY:RESOLUTION:RETINA\")\n",
    "feature(\"DISPLAY:RESOLUTION:QHD\")\n",
    "feature(\"DISPLAY:RESOLUTION:QHD+\")\n",
    "feature(\"DISPLAY:RESOLUTION:UHD\")\n",
    "\n",
    "# display type\n",
    "feature(\"DISPLAY:TYPE:GLOSSY\")\n",
    "feature(\"DISPLAY:TYPE:MATTE\")\n",
    "\n",
    "# display interactivity\n",
    "feature(\"DISPLAY:TOUCH\")\n",
    "feature(\"DISPLAY:PRESSURE_SENSITIVE\")\n",
    "feature(\"DISPLAY:SMART_PEN_SUPPORT\")\n",
    "feature(\"DISPLAY:TABLET_MODE\")\n",
    "\n",
    "# display refresh rate\n",
    "feature(\"DISPLAY:REFRESH_RATE:120HZ\")\n",
    "feature(\"DISPLAY:REFRESH_RATE:60HZ\")\n",
    "\n",
    "# keyboard\n",
    "feature(\"KEYBOARD:TKL\")\n",
    "feature(\"KEYBOARD:SWITCH:LOW_PROFILE\")\n",
    "feature(\"KEYBOARD:SWITCH:BUTTERFLY\")\n",
    "feature(\"KEYBOARD:SWITCH:MECHANICAL\")\n",
    "feature(\"KEYBOARD:SWITCH:OPTICAL\")\n",
    "feature(\"KEYBOARD:SWITCH:TACTILE\")\n",
    "\n",
    "# chassis color\n",
    "feature(\"CHASSIS:COLOR:WHITE\")\n",
    "feature(\"CHASSIS:COLOR:BLACK\")\n",
    "feature(\"CHASSIS:COLOR:GRAY\")\n",
    "feature(\"CHASSIS:COLOR:RED\")\n",
    "feature(\"CHASSIS:COLOR:BLUE\")\n",
    "feature(\"CHASSIS:COLOR:GREEN\")\n",
    "\n",
    "# brand\n",
    "feature(\"BRAND:APPLE\")\n",
    "feature(\"BRAND:LENOVO\")\n",
    "feature(\"BRAND:ALIENWARE\")\n",
    "feature(\"BRAND:MSI\")\n",
    "feature(\"BRAND:ASUS\")\n",
    "\n",
    "# lighting\n",
    "feature(\"LIGHTING:KEYBOARD:RGB\")\n",
    "feature(\"LIGHTING:KEYBOARD:BACKLIGHT\")\n",
    "feature(\"LIGHTING:CHASSIS:RGB\")\n",
    "\n",
    "# price\n",
    "feature(\"PRICE:LOW\") # $800 or below\n",
    "feature(\"PRICE:MID\") # $800-$1600\n",
    "feature(\"PRICE:HIGH\") # $1600 or above"
   ]
  },
  {
   "cell_type": "markdown",
   "id": "faf0b967",
   "metadata": {},
   "source": [
    "## 3. Creating Agents"
   ]
  },
  {
   "cell_type": "markdown",
   "id": "0e67649b",
   "metadata": {},
   "source": [
    "Now that we have defined a decent space of features, we can define agent instances with different stances by giving them different goals. I've outlined some of the agents we will be working with below:"
   ]
  },
  {
   "cell_type": "markdown",
   "id": "d19c7f87",
   "metadata": {},
   "source": [
    "### Broke CS Student"
   ]
  },
  {
   "cell_type": "markdown",
   "id": "949dae6e",
   "metadata": {},
   "source": [
    "I have decided to base the first agent off of myself. The broke computer science student needs a decent laptop for coding. More importantly, they need their option to be affordable so they can still afford the Yale Dining plan. They will also need something portable they can take between classes very easily. You will see these requirements outlined in the goals attached to the agent class:"
   ]
  },
  {
   "cell_type": "code",
   "execution_count": 6,
   "id": "f6631b7c",
   "metadata": {},
   "outputs": [
    {
     "name": "stdout",
     "output_type": "stream",
     "text": [
      "Name:\tBroke CS Student\n",
      "Goals:\t['coding', 'affordable', 'portable']\n",
      "Stances:\t[stance('OS:MACOS', 'PRO', 'A'), stance('OS:LINUX', 'PRO', 'B'), stance('DISPLAY:RESOLUTION:RETINA', 'PRO', 'B'), stance('PRICE:HIGH', 'CON', 'A'), stance('SIZE:13', 'PRO', 'B'), stance('SIZE:14', 'PRO', 'B')]\n"
     ]
    }
   ],
   "source": [
    "broke_cs_student = agent(\"Broke CS Student\")\n",
    "broke_cs_student.add_goal(\"coding\")\n",
    "broke_cs_student.add_goal(\"affordable\")\n",
    "broke_cs_student.add_goal(\"portable\")\n",
    "broke_cs_student.infer_stances_from_goals()\n",
    "print(broke_cs_student.pp())"
   ]
  },
  {
   "cell_type": "markdown",
   "id": "80de3b59",
   "metadata": {},
   "source": [
    "### Digital Artist"
   ]
  },
  {
   "cell_type": "markdown",
   "id": "d914a6a0",
   "metadata": {},
   "source": [
    "The next agent is based off of my friend, who is a digital artist for Riot Games. She told me she always prefers devices that combine laptops and tablets with a 2-in-1 design, otherwise she needs to carry a dedicated drawing tablet with her. In addition, screen resolution is very important, as it enables more detailed work. Low price and portability are also bonuses since she travels often and also views her laptop as a complementary device to her main tablet in her office."
   ]
  },
  {
   "cell_type": "code",
   "execution_count": 7,
   "id": "05dd02cb",
   "metadata": {},
   "outputs": [
    {
     "name": "stdout",
     "output_type": "stream",
     "text": [
      "Name:\tDigital Artist\n",
      "Goals:\t['digital art', 'affordable', 'portable']\n",
      "Stances:\t[stance('DISPLAY:SMART_PEN_SUPPORT', 'PRO', 'A'), stance('DISPLAY:TABLET_MODE', 'PRO', 'B'), stance('DISPLAY:TOUCH', 'PRO', 'B'), stance('BRAND:APPLE', 'CON', 'A'), stance('PRICE:HIGH', 'CON', 'A'), stance('SIZE:13', 'PRO', 'B'), stance('SIZE:14', 'PRO', 'B')]\n"
     ]
    }
   ],
   "source": [
    "digital_artist = agent(\"Digital Artist\")\n",
    "digital_artist.add_goal(\"digital art\")\n",
    "digital_artist.add_goal(\"affordable\")\n",
    "digital_artist.add_goal(\"portable\")\n",
    "digital_artist.infer_stances_from_goals()\n",
    "print(digital_artist.pp())"
   ]
  },
  {
   "cell_type": "markdown",
   "id": "915d9666",
   "metadata": {},
   "source": [
    "### Rich Gamer"
   ]
  },
  {
   "cell_type": "markdown",
   "id": "73b7dcfb",
   "metadata": {},
   "source": [
    "This agent is not based off of anyone I know personally, but it is definitely something I wish to be. Let's continue with the assumption that the right gamer wants a very high end device that focuses on maxing out gaming performance and nothing else (maybe they made it big on Twitch or something). They are willing to pay as much money as needed in order to get the best performance possible."
   ]
  },
  {
   "cell_type": "code",
   "execution_count": 8,
   "id": "a29ac57b",
   "metadata": {},
   "outputs": [
    {
     "name": "stdout",
     "output_type": "stream",
     "text": [
      "Name:\tRich Gamer\n",
      "Goals:\t['gaming']\n",
      "Stances:\t[stance('OS:WINDOWS', 'PRO', 'A'), stance('KEYBOARD:SWITCH:MECHANICAL', 'PRO', 'B'), stance('KEYBOARD:SWITCH:MECHANICAL', 'PRO', 'B'), stance('LIGHTING:KEYBOARD:RGB', 'PRO', 'B'), stance('BRAND:APPLE', 'CON', 'A')]\n"
     ]
    }
   ],
   "source": [
    "rich_gamer = agent(\"Rich Gamer\")\n",
    "rich_gamer.add_goal(\"gaming\")\n",
    "rich_gamer.infer_stances_from_goals()\n",
    "print(rich_gamer.pp())"
   ]
  },
  {
   "cell_type": "markdown",
   "id": "186bc829",
   "metadata": {},
   "source": [
    "## 4. Creating devices"
   ]
  },
  {
   "cell_type": "markdown",
   "id": "f7762cce",
   "metadata": {},
   "source": [
    "Before we move on to implementing methods we will need a set of devices to test our methods with to make sure things are working properly. It would be really bad for example, if we recommended a $6,000 laptop to our broke CS student agent. As much as he may like the laptop, there is no way he will be able to afford the Yale Dining plan after a purchase like that. To create the sample device space, I went back to YouTube and picked a really random assortment of popular laptops with decent variation. The results of this process are shown below:"
   ]
  },
  {
   "cell_type": "code",
   "execution_count": 9,
   "id": "970f6f44",
   "metadata": {},
   "outputs": [],
   "source": [
    "# https://www.apple.com/shop/buy-mac/macbook-air\n",
    "m1_mac_air_base = device('Apple M1 Macbook Air Base Model', [\n",
    "    feature(\"CPU:CORES:8\"),\n",
    "    feature(\"SIZE:13\"),\n",
    "    feature(\"OS:MACOS\"),\n",
    "    feature(\"DISPLAY:TYPE:GLOSSY\"),\n",
    "    feature(\"LIGHTING:KEYBOARD:BACKLIGHT\"),\n",
    "    feature(\"DISPLAY:RESOLUTION:RETINA\"),\n",
    "    feature(\"BRAND:APPLE\"),\n",
    "    feature(\"RAM:SIZE:16\"),\n",
    "    feature(\"PRICE:MID\")\n",
    "])\n",
    "\n",
    "# https://www.apple.com/shop/buy-mac/macbook-pro/14-inch\n",
    "m1_mac_pro_14 = device('Apple M1 Macbook Pro 14', [\n",
    "    feature(\"CPU:CORES:10\"),\n",
    "    feature(\"SIZE:14\"),\n",
    "    feature(\"OS:MACOS\"),\n",
    "    feature(\"DISPLAY:TYPE:GLOSSY\"),\n",
    "    feature(\"LIGHTING:KEYBOARD:BACKLIGHT\"),\n",
    "    feature(\"DISPLAY:RESOLUTION:RETINA\"),\n",
    "    feature(\"BRAND:APPLE\"),\n",
    "    feature(\"PRICE:HIGH\")\n",
    "])\n",
    "\n",
    "# https://rog.asus.com/us/laptops/rog-zephyrus/rog-zephyrus-g14-series/spec\n",
    "rog_zephyrus_g14 = device('ROG Zephyrus G14 GA401', [\n",
    "    feature(\"CPU:CORES:8\"),\n",
    "    feature(\"OS:WINDOWS\"),\n",
    "    feature(\"CPU:MANUFACTURER:AMD\"),\n",
    "    feature(\"DISPLAY:RESOLUTION:QHD\"),\n",
    "    feature(\"LIGHTING:KEYBOARD:RGB\"),\n",
    "    feature(\"DISPLAY:TYPE:MATTE\"),\n",
    "    feature(\"RAM:SIZE:32\"),\n",
    "    feature(\"PRICE:HIGH\")\n",
    "])\n",
    "\n",
    "# https://www.asus.com/us/Laptops/For-Home/Zenbook/Zenbook-Pro-Duo-UX581/\n",
    "zenbook_pro_duo = device('Asus Zenbook Pro Duo', [\n",
    "    feature(\"CPU:CORES:8\"),\n",
    "    feature(\"OS:WINDOWS\"),\n",
    "    feature(\"CPU:MANUFACTURER:INTEL\"), \n",
    "    feature(\"DISPLAY:RESOLUTION:UHD\"),\n",
    "    feature(\"DISPLAY:TYPE:MATTE\"),\n",
    "    feature(\"RAM:SIZE:16\"),\n",
    "    feature(\"PRICE:HIGH\")\n",
    "])\n",
    "\n",
    "# https://www.backmarket.com/tested-and-certified-used-msi-gf75-thin-10scsr-448-173-inch-2020-intel-core-i5-10300h-8-gb-ssd-512-gb/369673.html?shopping=gmc&gclid=Cj0KCQjwl7qSBhD-ARIsACvV1X1ExCTi1lHShik_G4U-LKuqdPMJWyx_5c4XEaCApst4KOC1SO-nBTcaAhxAEALw_wcB\n",
    "msi_gf65 = device('MSI GF75 Thin', [\n",
    "    feature(\"CPU:CORES:6\"),\n",
    "    feature(\"OS:WINDOWS\"),\n",
    "    feature(\"CPU:MANUFACTURER:INTEL\"),\n",
    "    feature(\"DISPLAY:RESOLUTION:FHD\"),\n",
    "    feature(\"DISPLAY:TYPE:MATTE\"),\n",
    "    feature(\"RAM:SIZE:16\"),\n",
    "    feature(\"PRICE:LOW\")\n",
    "])\n",
    "\n",
    "# https://www.lenovo.com/us/en/p/laptops/ideapad/ideapad-flex-series/ideapad-flex-5-15alc05/88ipf501567?orgRef=https%253A%252F%252Fwww.google.com%252F\n",
    "lenovo_ideapad_flex = device('IdeaPad Flex 5', [\n",
    "    feature(\"CPU:CORES:6\"),\n",
    "    feature(\"OS:WINDOWS\"),\n",
    "    feature(\"CPU:MANUFACTURER:AMD\"),\n",
    "    feature(\"DISPLAY:RESOLUTION:FHD\"),\n",
    "    feature(\"DISPLAY:TYPE:GLOSSY\"),\n",
    "    feature(\"RAM:SIZE:16\"),\n",
    "    feature(\"DISPLAY:TOUCH\"),\n",
    "    feature(\"DISPLAY:PRESSURE_SENSITIVE\"),\n",
    "    feature(\"DISPLAY:SMART_PEN_SUPPORT\"),\n",
    "    feature(\"DISPLAY:TABLET_MODE\"),\n",
    "    feature(\"PRICE:LOW\")\n",
    "])\n",
    "\n",
    "# https://www.dell.com/en-us/shop/dell-laptops/inspiron-15-2-in-1-laptop/spd/inspiron-15-7506-2-in-1-laptop/n27506eyvch?gacd=9694607-1004-5761040-266790354-0&dgc=st&ds_rl=1285903&gclid=Cj0KCQjwl7qSBhD-ARIsACvV1X3EvE9EYYIRJygFoJCHU7ThqBjoiUfg8VuJEl-oKOPw7Rlb64Sd3moaAiMYEALw_wcB&gclsrc=aw.ds&nclid=aNnKj3kwGHvhJJnu1z3lUu6sF2QUgnJbeLIu__Bb0-gduQ5Ettq2lteoNc7lsYoc\n",
    "dell_inspiron_15 = device('Inspiron 15 2-in-1 Laptop', [\n",
    "    feature(\"CPU:CORES:4\"),\n",
    "    feature(\"OS:WINDOWS\"),\n",
    "    feature(\"CPU:MANUFACTURER:INTEL\"),\n",
    "    feature(\"DISPLAY:RESOLUTION:UHD\"),\n",
    "    feature(\"DISPLAY:TYPE:GLOSSY\"),\n",
    "    feature(\"RAM:SIZE:16\"),\n",
    "    feature(\"DISPLAY:TOUCH\"),\n",
    "    feature(\"DISPLAY:PRESSURE_SENSITIVE\"),\n",
    "    feature(\"DISPLAY:SMART_PEN_SUPPORT\"),\n",
    "    feature(\"DISPLAY:TABLET_MODE\"),\n",
    "    feature(\"PRICE:MID\")\n",
    "])\n",
    "\n",
    "all_devices = [m1_mac_air_base, m1_mac_pro_14, rog_zephyrus_g14, zenbook_pro_duo, msi_gf65, lenovo_ideapad_flex, dell_inspiron_15]"
   ]
  },
  {
   "cell_type": "markdown",
   "id": "fa740425",
   "metadata": {},
   "source": [
    "## 5. Implementing likes"
   ]
  },
  {
   "cell_type": "markdown",
   "id": "b0c0e8bd",
   "metadata": {},
   "source": [
    "For our like implementation, we take a simple weighted approach. As we analyze an agent-device pairing, we keep track of an evaluation score. If we see a feature that aligns with one of our pro stances, we add to our evaluation score. The more important a feature is to a stance (ie. A vs. B vs. C), the more we will weight the presence of that feature. At the end of this process, we end up with an evaluation score that we can threshold, and use to decide whether our agent likes the product or not."
   ]
  },
  {
   "cell_type": "code",
   "execution_count": 10,
   "id": "16c2d43b",
   "metadata": {},
   "outputs": [],
   "source": [
    "def get_score(agent, device):\n",
    "    score = 0.5\n",
    "    \n",
    "    for feature in device.features:\n",
    "        for stance in agent.stances:\n",
    "            if stance.feature == feature:\n",
    "                if stance.side == 'PRO':\n",
    "                    if stance.importance == 'A':\n",
    "                        score *= 1.5\n",
    "                    elif stance.importance == 'B':\n",
    "                        score *= 1.25\n",
    "                    elif stance.importance == 'C':\n",
    "                        score *= 1.1\n",
    "                else:\n",
    "                    score *= 0.8\n",
    "                break\n",
    "    \n",
    "    return score"
   ]
  },
  {
   "cell_type": "code",
   "execution_count": 11,
   "id": "d2ba0e2b",
   "metadata": {},
   "outputs": [],
   "source": [
    "def likes(agent, device):\n",
    "    threshold = 0.8\n",
    "    return get_score(agent, device) >= threshold"
   ]
  },
  {
   "cell_type": "markdown",
   "id": "dcf65657",
   "metadata": {},
   "source": [
    "Now that we have `likes` implemented, let's make sure the results of the function make sense. Let's check out the broke college student first. The broke college student has coding as one of his goals, which means that the windows machines should not be preferred."
   ]
  },
  {
   "cell_type": "code",
   "execution_count": 12,
   "id": "a4a3ff30",
   "metadata": {},
   "outputs": [
    {
     "name": "stdout",
     "output_type": "stream",
     "text": [
      "Does the broke cs student like the M1 Macbook Air Base Model?: True\n",
      "Does the broke cs student like the M1X Macbook Pro 14?: True\n",
      "Does the broke cs student like the MSI GF65?: False\n"
     ]
    }
   ],
   "source": [
    "print(f\"Does the broke cs student like the M1 Macbook Air Base Model?: {likes(broke_cs_student, m1_mac_air_base)}\")\n",
    "print(f\"Does the broke cs student like the M1X Macbook Pro 14?: {likes(broke_cs_student, m1_mac_pro_14)}\")\n",
    "print(f\"Does the broke cs student like the MSI GF65?: {likes(broke_cs_student, msi_gf65)}\")"
   ]
  },
  {
   "cell_type": "markdown",
   "id": "1792790c",
   "metadata": {},
   "source": [
    "Based on the results above, we see that our `likes` implementation is effective. The student likes the M1 Macbook Air Base Model and the M1X Macbook Pro 14, as these are both Apple devices which are an industry standard for most Software Engineers. The windows machine (MSI GF65) is unliked despite matching the students affordability standard, as it does not align with any of the other criteria."
   ]
  },
  {
   "cell_type": "markdown",
   "id": "3a0dd8e6",
   "metadata": {},
   "source": [
    "## 6. Implementing prefers"
   ]
  },
  {
   "cell_type": "markdown",
   "id": "c5efac60",
   "metadata": {},
   "source": [
    "Implementing `prefers` is just as easy as implementing `likes` due to our weighted model. Instead of thresholding and returning a boolean, we can just use the weighted scores as a metric for picking devices, and pick the device that results in the highest evaluation score. We do this below:"
   ]
  },
  {
   "cell_type": "code",
   "execution_count": 13,
   "id": "508c23f2",
   "metadata": {},
   "outputs": [],
   "source": [
    "def prefers(agent, devices):\n",
    "    scores = []\n",
    "    for device in devices:\n",
    "        scores.append(get_score(agent, device))\n",
    "        \n",
    "    max_score = max(scores)\n",
    "    \n",
    "    for i,score in enumerate(scores):\n",
    "        if score == max_score:\n",
    "            return devices[i]"
   ]
  },
  {
   "cell_type": "markdown",
   "id": "6a70ed91",
   "metadata": {},
   "source": [
    "Once again, like we did with `likes`, let's verify that the results make sense here. Using the same example we used for likes, we should see that the broke CS student should prefer Apple devices because of macOS. However, between the provided Apple devices, the broke CS student should prefer the M1 Macbook Air Base Model, as it is more affordable than the 14 inch Macbook Pro."
   ]
  },
  {
   "cell_type": "code",
   "execution_count": 14,
   "id": "39ab7668",
   "metadata": {},
   "outputs": [
    {
     "name": "stdout",
     "output_type": "stream",
     "text": [
      "<device (9): Apple M1 Macbook Air Base Model>\n"
     ]
    }
   ],
   "source": [
    "print(prefers(broke_cs_student, [m1_mac_air_base, m1_mac_pro_14, msi_gf65]))"
   ]
  },
  {
   "cell_type": "markdown",
   "id": "a9312517",
   "metadata": {},
   "source": [
    "As we see in the output above, the M1 Macbook Air Base Model is preferred, so our `prefers` implementation looks good!"
   ]
  },
  {
   "cell_type": "markdown",
   "id": "9e7e98d6",
   "metadata": {},
   "source": [
    "## 7. Implementing recommend"
   ]
  },
  {
   "cell_type": "markdown",
   "id": "0ba52cce",
   "metadata": {},
   "source": [
    "For recommend, we largely use a similar algorithm to our `prefers` implementation. However, there is a major important difference. As the assignment page suggests, the recommend function should know about information that the consumer might not necessarily know they want. Going off of the Best Buy employee analogy, the employee may have the background knowledge needed in order to identify more specific requirements based on the customer's use-case. For example, if the customer is just using the device for productivity, they would know that a lower RAM size (ie. 8GB or 16GB) may make more sense since the usage would not be intense. These are specifics a customer wouldn't be expected to know.\n",
    "\n",
    "To do the above, we use the `enrich_stances` method on the agent class. This method adds more technically-specific stances that regular customers/consumers wouldn't be as knowledgeable about. We can think of this as the extra knowledge a Best Buy employee would have."
   ]
  },
  {
   "cell_type": "code",
   "execution_count": 15,
   "id": "2738b14e",
   "metadata": {},
   "outputs": [],
   "source": [
    "def recommend(agent):\n",
    "    # add the magic context of a best buy employee\n",
    "    agent.enrich_stances()\n",
    "    \n",
    "    scores = []\n",
    "    for device in all_devices:\n",
    "        scores.append(get_score(agent, device))\n",
    "        \n",
    "    max_score = max(scores)\n",
    "    \n",
    "    for i,score in enumerate(scores):\n",
    "        if score == max_score:\n",
    "            return all_devices[i]"
   ]
  },
  {
   "cell_type": "markdown",
   "id": "c1f39b6b",
   "metadata": {},
   "source": [
    "Now, let's verify that all 3 agents get recommended devices that make sense:"
   ]
  },
  {
   "cell_type": "code",
   "execution_count": 16,
   "id": "1719f7b2",
   "metadata": {},
   "outputs": [
    {
     "name": "stdout",
     "output_type": "stream",
     "text": [
      "Recommended device for broke cs student: <device (9): Apple M1 Macbook Air Base Model>\n",
      "Recommended device for digital artist: <device (11): IdeaPad Flex 5>\n",
      "Recommended device for rich gamer: <device (8): ROG Zephyrus G14 GA401>\n"
     ]
    }
   ],
   "source": [
    "print(f\"Recommended device for broke cs student: {recommend(broke_cs_student)}\")\n",
    "print(f\"Recommended device for digital artist: {recommend(digital_artist)}\")\n",
    "print(f\"Recommended device for rich gamer: {recommend(rich_gamer)}\")"
   ]
  },
  {
   "cell_type": "markdown",
   "id": "57c318b7",
   "metadata": {},
   "source": [
    "As we see from the results above, our recommendation system works pretty well. The broke CS student gets the best device for him (for the same reasons as previously explained. The digital artist gets the IdeaPad Flex 5, which is an affordable digital-art-focused tablet. It makes sense that she was not recommended the Dell Inspiron 15, which would have been a great fit as well, as she indicated in her goals that affordability was a concern. Finally, the rich gamer endds up with the ROG Zephyrus G14 GA401, which is Asus's top tier gaming laptop. This makes sense since the rich gamer doesn't have affordability concerns, and wants the strongest specs possible. This configuration is much more performant than the other options (Zephyrus Duo and MSI GF65), so it makes sense why this was recommended."
   ]
  }
 ],
 "metadata": {
  "kernelspec": {
   "display_name": "Python 3 (ipykernel)",
   "language": "python",
   "name": "python3"
  },
  "language_info": {
   "codemirror_mode": {
    "name": "ipython",
    "version": 3
   },
   "file_extension": ".py",
   "mimetype": "text/x-python",
   "name": "python",
   "nbconvert_exporter": "python",
   "pygments_lexer": "ipython3",
   "version": "3.9.10"
  }
 },
 "nbformat": 4,
 "nbformat_minor": 5
}
