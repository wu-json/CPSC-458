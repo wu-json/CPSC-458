{
 "cells": [
  {
   "cell_type": "markdown",
   "id": "319cfa5e",
   "metadata": {},
   "source": [
    "## CPSC 458 Hw2"
   ]
  },
  {
   "cell_type": "code",
   "execution_count": 1,
   "id": "912c6f00",
   "metadata": {},
   "outputs": [],
   "source": [
    "import yfinance as yf\n",
    "from yahoofinancials import YahooFinancials"
   ]
  },
  {
   "cell_type": "markdown",
   "id": "3c28d4ef",
   "metadata": {},
   "source": [
    "### Income Portfolio\n",
    "For our income portfolio, we are interested two major properties: stability and yield. We want this to be something we can live off of without much effort in maintaining the portfolio itself (passive income). To accomplish this, we will employ the following strategy:\n",
    "\n",
    "1. **HOLD all assets in this portolio:** We should choose assets that we never have to sell as one of our major criteria is low maintenance.\n",
    "\n",
    "2. **Prioritize assets with high dividend yield:** This is fairly straightforward, as we want to earn as much income via dividends per dollar invested. We don't want to overly prioritize this though, as we want to make sure the asset is healthy (recall criteria number 1).\n",
    "\n",
    "3. **Prioritize assets with lower volatility:** For our portfolio to be a consistent income earner, we need to make sure the company is healthy and not too volatile so that we can expect a relatively reliable stream of income each quarter. If our portfolio dies one quarter, then we don't eat that quarter...\n",
    "\n",
    "4. **Prioritize large cap assets:** Large cap assets are relatively stable most of the time. While nothing is immune to fluctuating prices (especially in the current political/economic climate), it's harder to push over giants than ants.\n",
    "\n",
    "5. **Prioritize stocks with positive net income:** This typically implies a company is stable and has their finances together, as it allows a company to pay off debt, invest in equipment/materials, and make other investments."
   ]
  },
  {
   "cell_type": "markdown",
   "id": "6aea458a",
   "metadata": {},
   "source": [
    "#### Income Portfolio Investment Code"
   ]
  },
  {
   "cell_type": "code",
   "execution_count": 2,
   "id": "8855dd01",
   "metadata": {},
   "outputs": [],
   "source": [
    "\"\"\"Returns suggested action on asset.\"\"\"\n",
    "def invest_income(ticker: str) -> str:\n",
    "    weight = 0.5\n",
    "    threshold = 0.8\n",
    "    \n",
    "    ticker_data = yf.Ticker(ticker)\n",
    "    ticker_info = ticker_data.info\n",
    "    quote_type = ticker_info.get('quoteType')\n",
    "    sector = ticker_info.get('sector')\n",
    "    \n",
    "    if (quote_type == 'ETF'):\n",
    "        weight *= 1.2\n",
    "        trailing_annual_div_yield = ticker_info.get('trailingAnnualDividendYield')\n",
    "        average_vol = ticker_info.get('averageVolume')\n",
    "        \n",
    "        if (trailing_annual_div_yield > 0.01 and average_vol > 5e6):\n",
    "            weight *= 1.5\n",
    "            \n",
    "    elif (quote_type == 'EQUITY'):\n",
    "        dividend_rate = 0 if ticker_info.get('dividendRate') is None else ticker_info.get('dividendRate')\n",
    "        market_cap = ticker_info.get('marketCap')\n",
    "        \n",
    "        if (sector == 'Financial Services' or sector == 'Technology'):\n",
    "            weight *= 1.2\n",
    "        if (dividend_rate > 0.5 and market_cap > 2e8):\n",
    "            weight *= 1.5\n",
    "            \n",
    "    beta = 1 if ticker_info.get('beta') is None else ticker_info.get('beta')\n",
    "    if (beta > 1):\n",
    "        weight *= 0.8\n",
    "            \n",
    "    cashflow = ticker_data.cashflow\n",
    "    if (len(cashflow) > 0):\n",
    "        net_income = cashflow.loc[['Net Income']].values[0][0]\n",
    "        if (net_income is not None and net_income > 1e10):\n",
    "            weight *= 1.2\n",
    "    \n",
    "    if (weight > threshold):\n",
    "        return \"hold\"\n",
    "    else:\n",
    "        return \"sell\""
   ]
  },
  {
   "cell_type": "markdown",
   "id": "832691cd",
   "metadata": {},
   "source": [
    "#### Code Breakdown\n",
    "Notice that our code above handles ETFs and normal stocks (Equity) slightly differently. ETFs by default get a higher weight boost, as they are typically safer since they are a basket of stocks rather than any individual stock. Furthermore, there is an additional weight boost for ETFs if the trailing dividend yield is over 0.01 and average volume is over 5 million. The dividend yield is part of our goal criteria, and we only weight it up if average volume is high enough to screen out more volatile stocks that may pay high dividends but with less stability/consistency.\n",
    "\n",
    "For normal stocks (Equity), we weight companies in the financial services or technology sectors higher by default. This is qualitatively built on the fact that financial service and technology companies serve as the core infrastructure for lots of other companies, and are thus more reliable. Similar to ETFs, we try to screen out volatile stocks by requiring a market cap greater than 200 million. Furthermore, we require a dividend rate of 0.5 for increasing weight for these stocks, ensuring we get decent income.\n",
    "\n",
    "Finally, as another volatility check, we decrease weight if beta is too high, as anything over 1 indicates the asset is more volatile than the market itself. We also do a net income check on the cashflow statement in order to make sure assets with high net income make the cut. We also always choose to hold instead of just buying for short-term trading purposes, as we want this to be a low maintenance portfolio."
   ]
  },
  {
   "cell_type": "markdown",
   "id": "923d84b8",
   "metadata": {},
   "source": [
    "#### Example Assets"
   ]
  },
  {
   "cell_type": "code",
   "execution_count": 3,
   "id": "635b2475",
   "metadata": {},
   "outputs": [
    {
     "name": "stdout",
     "output_type": "stream",
     "text": [
      "Vanguard 500 Index Fund ETF: hold\n",
      "JPMorgan Chase & Co: hold\n",
      "Bank of America Corp: hold\n",
      "Intel Corporation: hold\n",
      "Tesla Inc: sell\n",
      "BioNano Genomics Inc: sell\n",
      "Roku, Inc: sell\n",
      "FuelCell Energy Inc: sell\n"
     ]
    }
   ],
   "source": [
    "print(f\"Vanguard 500 Index Fund ETF: {invest_income('VOO')}\")\n",
    "print(f\"JPMorgan Chase & Co: {invest_income('JPM')}\")\n",
    "print(f\"Bank of America Corp: {invest_income('BAC')}\")\n",
    "print(f\"Intel Corporation: {invest_income('INTC')}\")\n",
    "print(f\"Tesla Inc: {invest_income('TSLA')}\")\n",
    "print(f\"BioNano Genomics Inc: {invest_income('BNGO')}\")\n",
    "print(f\"Roku, Inc: {invest_income('ROKU')}\")\n",
    "print(f\"FuelCell Energy Inc: {invest_income('FCEL')}\")"
   ]
  },
  {
   "cell_type": "markdown",
   "id": "d254daf6",
   "metadata": {},
   "source": [
    "Notice how for the assets above, more stable high-dividend assets receive a HOLD action whereas more volatile risky assets receive a SELL action."
   ]
  },
  {
   "cell_type": "markdown",
   "id": "177c41de",
   "metadata": {},
   "source": [
    "### ESG Portfolio\n",
    "For our ESG portfolio, our strategy is to prioritize ESG scores in our asset selections while still looking at a few simple key indicators of company health. Namely market cap and volume. This simple double-screening method allows us to ensure that we are picking high ESG stocks while avoiding super risky assets that may destroy our portfolio. We will also more heavily positively weight some sectors that are traditionally more ESG-unfriendly, (ex. packaging, energy) as any companies in these sectors with high ESG scores are likely improving the sector (ex. renewable energy companies helping move systems off of petroleum)."
   ]
  },
  {
   "cell_type": "code",
   "execution_count": 4,
   "id": "3dc6b5f8",
   "metadata": {},
   "outputs": [],
   "source": [
    "\"\"\"Returns suggested action on asset.\"\"\"\n",
    "def invest_esg(ticker: str) -> str:\n",
    "    weight = 0.5\n",
    "    buy_threshold = 0.7\n",
    "    hold_threshold = 0.85\n",
    "    \n",
    "    ticker_data = yf.Ticker(ticker)\n",
    "    ticker_info = ticker_data.info\n",
    "    quote_type = ticker_info.get('quoteType')\n",
    "    sector = ticker_info.get('sector')\n",
    "    \n",
    "    sustainability = ticker_data.sustainability\n",
    "    has_sustainability = sustainability is not None\n",
    "    \n",
    "    if not has_sustainability:\n",
    "        return \"sell\"\n",
    "\n",
    "    sector_set = { 'Basic Materials', 'Industrials', 'Technology' }\n",
    "    esg_score = sustainability.loc[['totalEsg']].values[0][0]\n",
    "    env_score = sustainability.loc[['environmentScore']].values[0][0]\n",
    "    \n",
    "    if esg_score > 5:\n",
    "        weight *= 1.2\n",
    "        \n",
    "        if sector in sector_set:\n",
    "            weight *= 1.4\n",
    "            \n",
    "        market_cap = ticker_info.get('marketCap')\n",
    "        average_vol = ticker_info.get('averageVolume')\n",
    "        \n",
    "        if (market_cap > 2e8 and average_vol > 5e6):\n",
    "            weight *= 1.5\n",
    "            \n",
    "    if (weight > hold_threshold):\n",
    "        return \"hold\"\n",
    "    elif (weight > buy_threshold):\n",
    "        return \"buy\"\n",
    "    else:\n",
    "        return \"sell\""
   ]
  },
  {
   "cell_type": "markdown",
   "id": "b6dbfa41",
   "metadata": {},
   "source": [
    "#### Code Breakdown\n",
    "In our code above, note we screen out stocks with no sustainability report, as we can't really determine value from an ESG perspective without this. From there, we choose stocks with a total ESG score greater than 5, and then add weight for assets in the materials, industrials, and technology sectors (recall that this might be a signal for companies introducing more sustainable practices in traditionally ESG-unfriendly sectors, so we want to give more kudos here). From there, we add a 50% weight boost for assets with a market cap greater than 20 million and average volume greater than 5 million. This is because we want to hold stocks with especially good financials given impressive ESG scores."
   ]
  },
  {
   "cell_type": "markdown",
   "id": "7912d7b9",
   "metadata": {},
   "source": [
    "#### Example Assets"
   ]
  },
  {
   "cell_type": "code",
   "execution_count": 5,
   "id": "98a1b9f5",
   "metadata": {},
   "outputs": [
    {
     "name": "stdout",
     "output_type": "stream",
     "text": [
      "Accenture: buy\n",
      "Tesla, Inc: hold\n",
      "Xylem Inc: buy\n",
      "Salesforce: hold\n",
      "FuelCell Energy Inc: sell\n",
      "Vale S.A.: sell\n",
      "Fastly Inc: sell\n"
     ]
    }
   ],
   "source": [
    "print(f\"Accenture: {invest_esg('ACN')}\")\n",
    "print(f\"Tesla, Inc: {invest_esg('TSLA')}\")\n",
    "print(f\"Xylem Inc: {invest_esg('XYL')}\")\n",
    "print(f\"Salesforce: {invest_esg('CRM')}\")\n",
    "\n",
    "print(f\"FuelCell Energy Inc: {invest_esg('FCEL')}\")\n",
    "print(f\"Vale S.A.: {invest_esg('VALE')}\")\n",
    "print(f\"Fastly Inc: {invest_esg('FSLY')}\")"
   ]
  },
  {
   "cell_type": "markdown",
   "id": "0970faa4",
   "metadata": {},
   "source": [
    "We see from the example assets above that we get a decent balance of ESG and profitabiliy here. Strong assets like ACN, TSLA, XYL, and CRM make the buy/hold cut whereas other more volatile and less ESG-friendly stocks like VALE don't make the cut."
   ]
  },
  {
   "cell_type": "markdown",
   "id": "a572c9de",
   "metadata": {},
   "source": [
    "### Growth Portfolio\n",
    "For our growth portfolio, we will mainly focus on revenue growth and volume. We will not focus on market cap as much since companies with high growth potential do not necessarily have high market caps already (there needs to be room to grow). Furthermore, we will make sure that stocks are at least 10% under their target low price.\n",
    "\n",
    "In addition, we will focus on two sectors: technology and diagnostics. This is because these are two growth-heavy sectors that have caught the interest of a lot of growth funds (ex. ARK Innovation ETF). It is also a good time to buy these assets right now considering current market prices."
   ]
  },
  {
   "cell_type": "code",
   "execution_count": 11,
   "id": "0bb65757",
   "metadata": {},
   "outputs": [],
   "source": [
    "\"\"\"Returns suggested action on asset.\"\"\"\n",
    "def invest_growth(ticker: str) -> str:\n",
    "    weight = 0.5\n",
    "    buy_threshold = 0.7\n",
    "    hold_threshold = 0.85\n",
    "    \n",
    "    ticker_data = yf.Ticker(ticker)\n",
    "    ticker_info = ticker_data.info\n",
    "    quote_type = ticker_info.get('quoteType')\n",
    "    sector = ticker_info.get('sector')\n",
    "    \n",
    "    sector_set = { 'Diagnostics & Research', 'Technology' }\n",
    "    if (sector not in sector_set):\n",
    "        weight *= 0.75\n",
    "    else:\n",
    "        weight *= 1.5\n",
    "        \n",
    "    average_vol = ticker_info.get('averageVolume')\n",
    "    if (average_vol > 5e6):\n",
    "        weight *= 1.5\n",
    "        \n",
    "    current_price = ticker_info.get('currentPrice')\n",
    "    if current_price is not None:\n",
    "        target_low_price = ticker_info.get('targetLowPrice')\n",
    "        percent_diff = (target_low_price - current_price) / current_price\n",
    "        if percent_diff > 0.10:\n",
    "            weight *= 1.6\n",
    "        \n",
    "    rev_growth = ticker_info.get('revenueGrowth')\n",
    "    if rev_growth is not None:\n",
    "        if rev_growth > 0.3:\n",
    "            weight *= 1.5\n",
    "    \n",
    "    if (weight > hold_threshold):\n",
    "        return \"hold\"\n",
    "    elif (weight > buy_threshold):\n",
    "        return \"buy\"\n",
    "    else:\n",
    "        return \"sell\""
   ]
  },
  {
   "cell_type": "markdown",
   "id": "38ac9b8f",
   "metadata": {},
   "source": [
    "#### Example Assets"
   ]
  },
  {
   "cell_type": "code",
   "execution_count": 13,
   "id": "d6c936c5",
   "metadata": {},
   "outputs": [
    {
     "name": "stdout",
     "output_type": "stream",
     "text": [
      "Fastly Inc: hold\n",
      "Datadog Inc: hold\n",
      "Unity Software Inc: hold\n",
      "Meta Platforms Inc: hold\n",
      "Deere & Company: sell\n",
      "Walmart: sell\n",
      "Mastercard Inc: sell\n"
     ]
    }
   ],
   "source": [
    "print(f\"Fastly Inc: {invest_growth('FSLY')}\")\n",
    "print(f\"Datadog Inc: {invest_growth('DDOG')}\")\n",
    "print(f\"Unity Software Inc: {invest_growth('U')}\")\n",
    "print(f\"Meta Platforms Inc: {invest_growth('FB')}\")\n",
    "\n",
    "print(f\"Deere & Company: {invest_growth('DE')}\")\n",
    "print(f\"Walmart: {invest_growth('WMT')}\")\n",
    "print(f\"Mastercard Inc: {invest_growth('MA')}\")"
   ]
  },
  {
   "cell_type": "markdown",
   "id": "d7e0ec4b",
   "metadata": {},
   "source": [
    "From the example assets above, we see that small to mid-cap stocks meet the buy/hold criteria more frequently than larger more established companies like Meta and Walmart. This makes sense since we are looking for pretty aggressive growth with this strategy, which means larger assets that have already peaked in growth rate might not make the cut."
   ]
  },
  {
   "cell_type": "markdown",
   "id": "b7dfbca3",
   "metadata": {},
   "source": [
    "### Invest Implementation"
   ]
  },
  {
   "cell_type": "markdown",
   "id": "eb73ad93",
   "metadata": {},
   "source": [
    "My invest implementation is a simple wrapper around the three strategies discussed in the portfolio types above. By default, if no client type is passed then it uses the income portfolio investment strategy (as it is a much more safe default than the others)."
   ]
  },
  {
   "cell_type": "code",
   "execution_count": 14,
   "id": "e840c301",
   "metadata": {},
   "outputs": [],
   "source": [
    "def invest(ticker: str, client=False) -> str:\n",
    "    if (client == 'income'):\n",
    "        return invest_income(ticker)\n",
    "    elif (client == 'growth'):\n",
    "        return invest_growth(ticker)\n",
    "    elif (client == 'esg'):\n",
    "        return invest_esg(ticker)\n",
    "    return invest_income(ticker)"
   ]
  }
 ],
 "metadata": {
  "kernelspec": {
   "display_name": "Python 3 (ipykernel)",
   "language": "python",
   "name": "python3"
  },
  "language_info": {
   "codemirror_mode": {
    "name": "ipython",
    "version": 3
   },
   "file_extension": ".py",
   "mimetype": "text/x-python",
   "name": "python",
   "nbconvert_exporter": "python",
   "pygments_lexer": "ipython3",
   "version": "3.9.10"
  }
 },
 "nbformat": 4,
 "nbformat_minor": 5
}
